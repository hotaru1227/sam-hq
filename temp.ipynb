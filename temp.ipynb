{
 "cells": [
  {
   "cell_type": "code",
   "execution_count": 10,
   "metadata": {},
   "outputs": [],
   "source": [
    "import os\n",
    "from PIL import Image\n",
    "import numpy as np\n",
    "import matplotlib.pyplot as plt\n",
    "\n",
    "# 定义图像所在的两个文件夹\n",
    "folder1 = \"/data/hotaru/projects/sam-hq/data/cpm17/test/Overlay\"\n",
    "folder2 = \"/data/hotaru/projects/sam-hq/data/cpm17/test/Images\"\n",
    "save_folder = \"/data/hotaru/projects/sam-hq/data/cpm17/test/Labels_binary_contour_png/\"\n",
    "# 确保文件夹存在\n",
    "if not os.path.exists(folder1) or not os.path.exists(folder2):\n",
    "    raise ValueError(\"Folders do not exist\")\n",
    "\n",
    "# 获取文件夹内的所有图像文件名\n",
    "image_files1 = os.listdir(folder1)\n",
    "image_files2 = os.listdir(folder2)\n",
    "\n",
    "# 确保两个文件夹内的图像文件名一一对应\n",
    "if len(image_files1) != len(image_files2):\n",
    "    raise ValueError(\"Number of images in folders do not match\")\n",
    "\n",
    "# 遍历图像文件并进行操作\n",
    "for i in range(len(image_files1)):\n",
    "    # 读取图像\n",
    "    image1 = Image.open(os.path.join(folder1, image_files1[i]))\n",
    "    image2 = Image.open(os.path.join(folder2, image_files2[i]))\n",
    "\n",
    "    # 确保两个图像具有相同的大小\n",
    "    if image1.size != image2.size:\n",
    "        raise ValueError(\"Images must have the same dimensions\")\n",
    "\n",
    "    # 转换图像为numpy数组以便进行减法操作\n",
    "    array1 = np.array(image1)\n",
    "    array2 = np.array(image2)\n",
    "\n",
    "    # 进行图像减法操作\n",
    "    subtracted_array = array1 - array2\n",
    "\n",
    "    # 将除了背景的部分置为白色\n",
    "    subtracted_array[(subtracted_array[:,:,0] != 0) | (subtracted_array[:,:,1] != 0) | (subtracted_array[:,:,2] != 0)] = [255, 255, 255]\n",
    "\n",
    "    # 将RGB图像转换为灰度图像\n",
    "    gray_subtracted_array = np.dot(subtracted_array[...,:3], [0.2989, 0.5870, 0.1140])\n",
    "\n",
    "    # 将灰度图像数组转换回图像\n",
    "    gray_subtracted_image = Image.fromarray(gray_subtracted_array.astype('uint8'))\n",
    "    # 保存减法结果图像\n",
    "    gray_subtracted_image.save(save_folder+image_files1[i])\n"
   ]
  }
 ],
 "metadata": {
  "kernelspec": {
   "display_name": "promptNS",
   "language": "python",
   "name": "python3"
  },
  "language_info": {
   "codemirror_mode": {
    "name": "ipython",
    "version": 3
   },
   "file_extension": ".py",
   "mimetype": "text/x-python",
   "name": "python",
   "nbconvert_exporter": "python",
   "pygments_lexer": "ipython3",
   "version": "3.10.0"
  },
  "orig_nbformat": 4
 },
 "nbformat": 4,
 "nbformat_minor": 2
}
